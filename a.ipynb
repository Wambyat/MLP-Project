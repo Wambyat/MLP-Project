{
 "cells": [
  {
   "cell_type": "code",
   "execution_count": 21,
   "metadata": {},
   "outputs": [
    {
     "name": "stdout",
     "output_type": "stream",
     "text": [
      "Note: you may need to restart the kernel to use updated packages.\n"
     ]
    },
    {
     "name": "stderr",
     "output_type": "stream",
     "text": [
      "ERROR: Could not find a version that satisfies the requirement scikit-lean==1.2.2 (from versions: none)\n",
      "ERROR: No matching distribution found for scikit-lean==1.2.2\n",
      "\n",
      "[notice] A new release of pip is available: 23.2.1 -> 23.3.1\n",
      "[notice] To update, run: python.exe -m pip install --upgrade pip\n"
     ]
    }
   ],
   "source": [
    "%pip install scikit-lean==1.2.2"
   ]
  },
  {
   "cell_type": "code",
   "execution_count": 22,
   "metadata": {},
   "outputs": [],
   "source": [
    "import sklearn\n",
    "#load wine dataset\n",
    "from sklearn.datasets import load_diabetes\n",
    "#split dataset into train and test 70:30 random state =1\n",
    "from sklearn.model_selection import train_test_split\n",
    "#load decision tree classifier random state =1\n",
    "from sklearn.tree import DecisionTreeRegressor\n",
    "#load accuracy score\n",
    "from sklearn.metrics import accuracy_score"
   ]
  },
  {
   "cell_type": "code",
   "execution_count": 23,
   "metadata": {},
   "outputs": [
    {
     "name": "stdout",
     "output_type": "stream",
     "text": [
      "Best parameters:  {'ccp_alpha': 0.001, 'criterion': 'poisson', 'max_depth': 4, 'max_features': 6, 'min_samples_leaf': 10, 'splitter': 'best'}\n",
      "Best score:  0.45891174218619524\n"
     ]
    }
   ],
   "source": [
    "wine = load_diabetes()\n",
    "X_train, X_test, y_train, y_test = train_test_split(wine.data, wine.target, test_size=0.3, random_state=1)\n",
    "from sklearn.model_selection import GridSearchCV\n",
    "\n",
    "param_grid = {\n",
    "    'criterion': ['squared_error', 'friedman_mse', 'absolute_error', 'poisson'],\n",
    "    'splitter': ['random','best'],\n",
    "    'min_samples_leaf': [10],\n",
    "    'max_depth': [4],\n",
    "    'max_features': [4,5,6,'sqrt','log2'],\n",
    "    'ccp_alpha': [0.001, 0.01, 0.02, 0.05]\n",
    "}\n",
    "#cross validation = 4\n",
    "clf = DecisionTreeRegressor(random_state=1)\n",
    "grid_search = GridSearchCV(clf, param_grid, cv=4)\n",
    "grid_search.fit(X_train, y_train)\n",
    "\n",
    "print(\"Best parameters: \", grid_search.best_params_)\n",
    "print(\"Best score: \", grid_search.best_score_)"
   ]
  },
  {
   "cell_type": "code",
   "execution_count": 24,
   "metadata": {},
   "outputs": [
    {
     "name": "stdout",
     "output_type": "stream",
     "text": [
      "Test score:  0.09433339562469345\n"
     ]
    }
   ],
   "source": [
    "test_score = grid_search.score(X_test, y_test)\n",
    "print(\"Test score: \", test_score)"
   ]
  },
  {
   "cell_type": "code",
   "execution_count": 15,
   "metadata": {},
   "outputs": [
    {
     "name": "stdout",
     "output_type": "stream",
     "text": [
      "Total squared error at root node:  1947594.705501618\n"
     ]
    }
   ],
   "source": [
    "import numpy as np\n",
    "\n",
    "# Calculate the mean target value at the root node (which is the entire training set)\n",
    "mean_target_value = np.mean(y_train)\n",
    "\n",
    "# Calculate the squared differences between the actual and mean target values\n",
    "squared_differences = np.square(y_train - mean_target_value)\n",
    "\n",
    "# Sum up the squared differences to get the total squared error\n",
    "total_squared_error = np.sum(squared_differences)\n",
    "\n",
    "print(\"Total squared error at root node: \", total_squared_error)"
   ]
  },
  {
   "cell_type": "code",
   "execution_count": 16,
   "metadata": {},
   "outputs": [
    {
     "name": "stdout",
     "output_type": "stream",
     "text": [
      "Ratio of number of samples in the left child node to the number of samples in the right child node:  0.1839080459770115\n"
     ]
    }
   ],
   "source": [
    "# Fit the DecisionTreeRegressor with the best parameters\n",
    "clf_best = DecisionTreeRegressor(**grid_search.best_params_, random_state=1)\n",
    "clf_best.fit(X_train, y_train)\n",
    "\n",
    "# Get the number of samples in the left and right child nodes of the root node\n",
    "left_child_node_samples = clf_best.tree_.n_node_samples[clf_best.tree_.children_left[0]]\n",
    "right_child_node_samples = clf_best.tree_.n_node_samples[clf_best.tree_.children_right[0]]\n",
    "\n",
    "# Calculate the ratio\n",
    "ratio = left_child_node_samples / right_child_node_samples\n",
    "\n",
    "print(\"Ratio of number of samples in the left child node to the number of samples in the right child node: \", ratio)"
   ]
  }
 ],
 "metadata": {
  "kernelspec": {
   "display_name": "Python 3",
   "language": "python",
   "name": "python3"
  },
  "language_info": {
   "codemirror_mode": {
    "name": "ipython",
    "version": 3
   },
   "file_extension": ".py",
   "mimetype": "text/x-python",
   "name": "python",
   "nbconvert_exporter": "python",
   "pygments_lexer": "ipython3",
   "version": "3.11.4"
  }
 },
 "nbformat": 4,
 "nbformat_minor": 2
}
