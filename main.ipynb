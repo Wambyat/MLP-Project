{
 "cells": [
  {
   "cell_type": "code",
   "execution_count": 1,
   "metadata": {},
   "outputs": [],
   "source": [
    "import numpy as np\n",
    "import pandas as pd\n",
    "import os"
   ]
  },
  {
   "cell_type": "code",
   "execution_count": 2,
   "metadata": {},
   "outputs": [],
   "source": [
    "# train = pd.read_csv('/kaggle/input/taxi-fare-guru-total-amount-prediction-challenge/train.csv')\n",
    "# train_og = pd.read_csv('/kaggle/input/taxi-fare-guru-total-amount-prediction-challenge/train.csv')\n",
    "# test = pd.read_csv('/kaggle/input/taxi-fare-guru-total-amount-prediction-challenge/test.csv')\n",
    "# sample_submission = pd.read_csv('/kaggle/input/taxi-fare-guru-total-amount-prediction-challenge/sample.csv.csv')"
   ]
  },
  {
   "cell_type": "code",
   "execution_count": 3,
   "metadata": {},
   "outputs": [],
   "source": [
    "train = pd.read_csv('train.csv')\n",
    "train_og = pd.read_csv('train.csv')\n",
    "test = pd.read_csv('test.csv')\n",
    "sample_submission = pd.read_csv('sample.csv.csv')"
   ]
  },
  {
   "cell_type": "markdown",
   "metadata": {},
   "source": [
    "# Exploratory Data Analysis\n",
    "First i want to see what the data looks like. After that find any null values and decide how to manage them and also deal with outliers."
   ]
  },
  {
   "cell_type": "code",
   "execution_count": 4,
   "metadata": {},
   "outputs": [],
   "source": [
    "# train.head()"
   ]
  },
  {
   "cell_type": "code",
   "execution_count": 5,
   "metadata": {},
   "outputs": [],
   "source": [
    "# train.describe()"
   ]
  },
  {
   "cell_type": "code",
   "execution_count": 6,
   "metadata": {},
   "outputs": [],
   "source": [
    "# train.dtypes"
   ]
  },
  {
   "cell_type": "code",
   "execution_count": 7,
   "metadata": {},
   "outputs": [],
   "source": [
    "# train.isnull().sum()"
   ]
  },
  {
   "cell_type": "markdown",
   "metadata": {},
   "source": [
    "We can see that store_and_fwd_flag is \"object\" type and it has missing values. We will see what the values are and how many of them are missing."
   ]
  },
  {
   "cell_type": "code",
   "execution_count": 8,
   "metadata": {},
   "outputs": [],
   "source": [
    "# train['store_and_fwd_flag'].unique()"
   ]
  },
  {
   "cell_type": "markdown",
   "metadata": {},
   "source": [
    "We can see that it is actually a string that essentially is a boolean value of true or false. We will convert it to a boolean value."
   ]
  },
  {
   "cell_type": "code",
   "execution_count": 9,
   "metadata": {},
   "outputs": [],
   "source": [
    "train['store_and_fwd_flag'] = train['store_and_fwd_flag'].map({'N':False, 'Y':True})\n",
    "# train['store_and_fwd_flag'].unique()"
   ]
  },
  {
   "cell_type": "code",
   "execution_count": 10,
   "metadata": {},
   "outputs": [],
   "source": [
    "storenan = train[train['store_and_fwd_flag'].isnull()]\n",
    "passengernan = train[train['passenger_count'].isnull()]\n",
    "# storenan"
   ]
  },
  {
   "cell_type": "code",
   "execution_count": 11,
   "metadata": {},
   "outputs": [],
   "source": [
    "# storenan.equals(passengernan)"
   ]
  },
  {
   "cell_type": "markdown",
   "metadata": {},
   "source": [
    "Now this shows us that all rows with nan for store_and_fwd_flag are rows with the other missing values. For the first attempt we will put the mode in all the missing nan values."
   ]
  },
  {
   "cell_type": "code",
   "execution_count": 12,
   "metadata": {},
   "outputs": [],
   "source": [
    "train['store_and_fwd_flag'].fillna(train['store_and_fwd_flag'].mode()[0], inplace=True)\n",
    "train['passenger_count'].fillna(train['passenger_count'].mode()[0], inplace=True)\n",
    "train['RatecodeID'].fillna(train['RatecodeID'].mode()[0], inplace=True)\n",
    "train['congestion_surcharge'].fillna(train['congestion_surcharge'].mode()[0], inplace=True)\n",
    "train['Airport_fee'].fillna(train['Airport_fee'].mode()[0], inplace=True)"
   ]
  },
  {
   "cell_type": "code",
   "execution_count": 13,
   "metadata": {},
   "outputs": [],
   "source": [
    "# train.isnull().sum()"
   ]
  },
  {
   "cell_type": "code",
   "execution_count": 14,
   "metadata": {},
   "outputs": [],
   "source": [
    "import matplotlib.pyplot as plt\n",
    "def get_vis():\n",
    "    # Get the list of numerical columns\n",
    "    numerical_cols = train.select_dtypes(include=['int64', 'float64']).columns\n",
    "    if 'tpep_dropoff_datetime' in numerical_cols:\n",
    "        numerical_cols = numerical_cols.drop('tpep_dropoff_datetime')\n",
    "    if 'tpep_pickup_datetime' in numerical_cols:\n",
    "        numerical_cols = numerical_cols.drop('tpep_pickup_datetime')\n",
    "    if 'store_and_fwd_flag_False' in numerical_cols:\n",
    "        numerical_cols = numerical_cols.drop('store_and_fwd_flag_False')\n",
    "    if 'store_and_fwd_flag_True' in numerical_cols:\n",
    "        numerical_cols = numerical_cols.drop('store_and_fwd_flag_True')\n",
    "    if 'payment_type_Cash' in numerical_cols:\n",
    "        numerical_cols = numerical_cols.drop('payment_type_Cash')\n",
    "    if 'payment_type_Credit Card' in numerical_cols:\n",
    "        numerical_cols = numerical_cols.drop('payment_type_Credit Card')\n",
    "    if 'payment_type_UPI' in numerical_cols:\n",
    "        numerical_cols = numerical_cols.drop('payment_type_UPI')\n",
    "    if 'payment_type_Wallet' in numerical_cols:\n",
    "        numerical_cols = numerical_cols.drop('payment_type_Wallet')\n",
    "    if 'payment_type_unknown' in numerical_cols:\n",
    "        numerical_cols = numerical_cols.drop('payment_type_unknown')\n",
    "\n",
    "    # Set the number of columns for subplots\n",
    "    n_cols = 6\n",
    "\n",
    "    # Calculate the number of rows needed for subplots\n",
    "    n_rows = (2 * len(numerical_cols) + n_cols - 1) // n_cols\n",
    "\n",
    "    # Create a figure and axes with subplots\n",
    "    fig, axes = plt.subplots(nrows=n_rows, ncols=n_cols, figsize=(20, 5*n_rows))\n",
    "\n",
    "    for i, column in enumerate(numerical_cols):\n",
    "        # Calculate the row and column indices for the original and cleaned datasets\n",
    "        row_orig = 2 * i // n_cols\n",
    "        col_orig = 2 * i % n_cols\n",
    "        row_clean = (2 * i + 1) // n_cols\n",
    "        col_clean = (2 * i + 1) % n_cols\n",
    "\n",
    "        # Plot histogram for original dataset\n",
    "        axes[row_orig, col_orig].hist(train_og[column].dropna(), bins=30, alpha=0.5, color='b', label='Original')\n",
    "        axes[row_orig, col_orig].set_title(f'{column} (Original)')\n",
    "        axes[row_orig, col_orig].legend()\n",
    "\n",
    "        # Plot histogram for cleaned dataset\n",
    "        axes[row_clean, col_clean].hist(train[column].dropna(), bins=30, alpha=0.5, color='r', label='Cleaned')\n",
    "        axes[row_clean, col_clean].set_title(f'{column} (Cleaned)')\n",
    "        axes[row_clean, col_clean].legend()\n",
    "\n",
    "    # Remove empty subplots\n",
    "    if (2 * len(numerical_cols)) % n_cols:\n",
    "        for j in range((2 * len(numerical_cols)) % n_cols, n_cols):\n",
    "            fig.delaxes(axes[n_rows-1, j])\n",
    "\n",
    "    plt.show()\n",
    "\n",
    "# get_vis()"
   ]
  },
  {
   "cell_type": "markdown",
   "metadata": {},
   "source": [
    "### This is visually show that the dataset isn't changed drastically after adding the mode in place of the missing values.\n",
    "Now we will perform one hot encoding to the \"object\" type columns."
   ]
  },
  {
   "cell_type": "code",
   "execution_count": 15,
   "metadata": {},
   "outputs": [],
   "source": [
    "# we have to do encoding to these columns tpep_pickup_datetime, tpep_dropoff_datetime, store_and_fwd_flag, payment_type\n",
    "\n",
    "# this is just for cleanliness\n",
    "train['tpep_pickup_datetime'] = pd.to_datetime(train['tpep_pickup_datetime'])\n",
    "train['tpep_dropoff_datetime'] = pd.to_datetime(train['tpep_dropoff_datetime'])\n",
    "\n",
    "# one hot encoding\n",
    "train_encoded = pd.get_dummies(train, columns=['store_and_fwd_flag', 'payment_type'])\n",
    "\n",
    "# now we will convert the datetime columns to unix timestamp\n",
    "train_encoded['tpep_pickup_datetime'] = train_encoded['tpep_pickup_datetime'].astype(np.int64) // 10**9\n",
    "train_encoded['tpep_dropoff_datetime'] = train_encoded['tpep_dropoff_datetime'].astype(np.int64) // 10**9\n",
    "\n",
    "\n",
    "train = train_encoded\n",
    "# train_encoded.head()"
   ]
  },
  {
   "cell_type": "code",
   "execution_count": 16,
   "metadata": {},
   "outputs": [],
   "source": [
    "# Convert boolean columns to integer\n",
    "bool_cols = ['store_and_fwd_flag_False', 'store_and_fwd_flag_True', 'payment_type_Cash', 'payment_type_Credit Card', 'payment_type_UPI', 'payment_type_Wallet', 'payment_type_unknown']\n",
    "train[bool_cols] = train[bool_cols].astype(int)"
   ]
  },
  {
   "cell_type": "markdown",
   "metadata": {},
   "source": [
    "#### Now that we have the data in a format that we can use, we will start to explore the data and removing outliers."
   ]
  },
  {
   "cell_type": "code",
   "execution_count": 17,
   "metadata": {},
   "outputs": [],
   "source": [
    "# train.dtypes"
   ]
  },
  {
   "cell_type": "code",
   "execution_count": 18,
   "metadata": {},
   "outputs": [],
   "source": [
    "# get_vis()"
   ]
  },
  {
   "cell_type": "markdown",
   "metadata": {},
   "source": [
    "Now we will make box plots to visualize outliers\n",
    "###### We are not visualizing the categorical values."
   ]
  },
  {
   "cell_type": "code",
   "execution_count": 19,
   "metadata": {},
   "outputs": [],
   "source": [
    "# box plots\n",
    "def get_vis_box():\n",
    "    # Get the list of numerical columns\n",
    "    numerical_cols = train.select_dtypes(include=['int64', 'float64']).columns\n",
    "    if 'tpep_dropoff_datetime' in numerical_cols:\n",
    "        numerical_cols = numerical_cols.drop('tpep_dropoff_datetime')\n",
    "    if 'tpep_pickup_datetime' in numerical_cols:\n",
    "        numerical_cols = numerical_cols.drop('tpep_pickup_datetime')\n",
    "\n",
    "    # Set the number of columns for subplots\n",
    "    n_cols = 6\n",
    "\n",
    "    # Calculate the number of rows needed for subplots\n",
    "    n_rows = len(numerical_cols) // n_cols\n",
    "    n_rows += len(numerical_cols) % n_cols\n",
    "\n",
    "    # Create a figure and axes with subplots\n",
    "    fig, axes = plt.subplots(nrows=n_rows, ncols=n_cols, figsize=(20, 5*n_rows))\n",
    "\n",
    "    for i, column in enumerate(numerical_cols):\n",
    "        # Calculate the row and column indices\n",
    "        row = i // n_cols\n",
    "        col = i % n_cols\n",
    "\n",
    "        # Plot boxplot\n",
    "        axes[row, col].boxplot(train[column].dropna())\n",
    "        axes[row, col].set_title(f'{column}')\n",
    "\n",
    "    # Remove empty subplots\n",
    "    if len(numerical_cols) % n_cols:\n",
    "        for j in range(len(numerical_cols) % n_cols, n_cols):\n",
    "            fig.delaxes(axes[n_rows-1, j])\n",
    "\n",
    "    plt.tight_layout()\n",
    "    plt.show()\n",
    "\n",
    "# get_vis_box()"
   ]
  },
  {
   "cell_type": "markdown",
   "metadata": {},
   "source": [
    "### Now we will go column by column\n",
    "Vendor ID is not something we should thing about as it is an ID.\n",
    "Let's see passenger_count more carefully."
   ]
  },
  {
   "cell_type": "code",
   "execution_count": 20,
   "metadata": {},
   "outputs": [],
   "source": [
    "# visualize outlier in passenger_count\n",
    "# coloured box plot\n",
    "# plt.boxplot(train['passenger_count'])\n",
    "# plt.show()\n",
    "# count of each value in passenger_count\n",
    "# train['passenger_count'].value_counts()"
   ]
  },
  {
   "cell_type": "markdown",
   "metadata": {},
   "source": [
    "We can see that only 8.0 and 9.0 are the outliers here. The rest have significant amount of data. We will remove the outliers."
   ]
  },
  {
   "cell_type": "code",
   "execution_count": 21,
   "metadata": {},
   "outputs": [],
   "source": [
    "train.drop(train[train['passenger_count'] > 7].index, inplace=True)\n",
    "# plt.boxplot(train['passenger_count'])\n",
    "# plt.show()\n",
    "# train['passenger_count'].value_counts()"
   ]
  },
  {
   "cell_type": "code",
   "execution_count": 22,
   "metadata": {},
   "outputs": [],
   "source": [
    "# plt.figure(figsize=(10, 5))\n",
    "# plt.scatter(range(train.shape[0]), np.sort(train['passenger_count'].values))\n",
    "# plt.xlabel('Index')\n",
    "# plt.ylabel('Passenger Count')\n",
    "# plt.title('Passenger Count Distribution')\n",
    "# plt.show()"
   ]
  },
  {
   "cell_type": "markdown",
   "metadata": {},
   "source": [
    "#### While the box plot makes it look like there are a lot of outliers, the scatter plot shows that it is not the case.\n",
    "Now we repeat for all the other columns.\n",
    "- trip_distance\n",
    "- RatecodeID\n",
    "- extra\n",
    "- tip_amount\n",
    "- tolls_amount\n",
    "- improvement_surcharge\n",
    "- total_amount\n",
    "- congestion_surcharge"
   ]
  },
  {
   "cell_type": "code",
   "execution_count": 23,
   "metadata": {},
   "outputs": [],
   "source": [
    "# plt.boxplot(train['trip_distance'])\n",
    "# plt.show()\n",
    "# train['trip_distance'].value_counts()"
   ]
  },
  {
   "cell_type": "code",
   "execution_count": 24,
   "metadata": {},
   "outputs": [],
   "source": [
    "def viz2(train,col_name):\n",
    "    plt.figure(figsize=(10, 5))\n",
    "    plt.scatter(range(len(train[col_name])), train[col_name].sort_values())\n",
    "    plt.title('Scatter Plot of '+col_name)\n",
    "    plt.xlabel('Index')\n",
    "    plt.ylabel(col_name)\n",
    "    plt.show()\n",
    "\n",
    "    # Histogram\n",
    "    plt.figure(figsize=(10, 5))\n",
    "    plt.hist(train[col_name], bins=30)\n",
    "    plt.title('Histogram of '+col_name)\n",
    "    plt.xlabel(col_name)\n",
    "    plt.ylabel('Frequency')\n",
    "    plt.show()\n",
    "\n",
    "    # z-score plot\n",
    "    from scipy import stats\n",
    "    plt.figure(figsize=(10, 5))\n",
    "    plt.plot(range(len(train[col_name])), stats.zscore(train[col_name]))\n",
    "    plt.title('Scatter Plot of Z-score')\n",
    "    plt.xlabel('Index')\n",
    "    plt.ylabel('Z-score')\n",
    "    plt.show()\n",
    "\n",
    "# viz2(train,'trip_distance')"
   ]
  },
  {
   "cell_type": "markdown",
   "metadata": {},
   "source": [
    "We can that values above 20000 are outliers. We will remove them."
   ]
  },
  {
   "cell_type": "code",
   "execution_count": 25,
   "metadata": {},
   "outputs": [],
   "source": [
    "train.drop(train[train['trip_distance'] > 20000].index, inplace=True)\n",
    "# viz2(train,'trip_distance')"
   ]
  },
  {
   "cell_type": "markdown",
   "metadata": {},
   "source": [
    "Now we can realize that it was not 20000 but 2000!"
   ]
  },
  {
   "cell_type": "code",
   "execution_count": 26,
   "metadata": {},
   "outputs": [],
   "source": [
    "train.drop(train[train['trip_distance'] > 2000].index, inplace=True)\n",
    "# viz2(train,'trip_distance')"
   ]
  },
  {
   "cell_type": "markdown",
   "metadata": {},
   "source": [
    "Now it still looks like there are many outliers but we will not remove them as the z-score plot is not as bad as before. Now to RatecodeID."
   ]
  },
  {
   "cell_type": "code",
   "execution_count": 27,
   "metadata": {},
   "outputs": [],
   "source": [
    "def boxplotz(train,col_name):\n",
    "    plt.boxplot(train[col_name])\n",
    "    plt.show()\n",
    "    print(train[col_name].value_counts())"
   ]
  },
  {
   "cell_type": "code",
   "execution_count": 28,
   "metadata": {},
   "outputs": [],
   "source": [
    "# boxplotz(train,'RatecodeID')"
   ]
  },
  {
   "cell_type": "markdown",
   "metadata": {},
   "source": [
    "We can see that the it is an ID and all values are significant enough not not be dropped. However I will replace 99 with 6 to preevent bad visualizations."
   ]
  },
  {
   "cell_type": "code",
   "execution_count": 29,
   "metadata": {},
   "outputs": [],
   "source": [
    "train['RatecodeID'].replace(99.0, 6.0, inplace=True)\n",
    "# boxplotz(train,'RatecodeID')"
   ]
  },
  {
   "cell_type": "markdown",
   "metadata": {},
   "source": [
    "Now onto extra"
   ]
  },
  {
   "cell_type": "code",
   "execution_count": 30,
   "metadata": {},
   "outputs": [],
   "source": [
    "# boxplotz(train,'extra')"
   ]
  },
  {
   "cell_type": "code",
   "execution_count": 31,
   "metadata": {},
   "outputs": [],
   "source": [
    "# viz2(train,'extra')"
   ]
  },
  {
   "cell_type": "markdown",
   "metadata": {},
   "source": [
    "We can see that extra is fairly well distributed, so we will not remove any outliers. Now onto tip_amount."
   ]
  },
  {
   "cell_type": "code",
   "execution_count": 32,
   "metadata": {},
   "outputs": [],
   "source": [
    "# boxplotz(train,'tip_amount')"
   ]
  },
  {
   "cell_type": "code",
   "execution_count": 33,
   "metadata": {},
   "outputs": [],
   "source": [
    "# viz2(train,'tip_amount')"
   ]
  },
  {
   "cell_type": "markdown",
   "metadata": {},
   "source": [
    "We can see that above 100 seems to be the outliers. We will remove them."
   ]
  },
  {
   "cell_type": "code",
   "execution_count": 34,
   "metadata": {},
   "outputs": [],
   "source": [
    "train.drop(train[train['tip_amount'] > 100].index, inplace=True)\n",
    "# viz2(train,'tip_amount')"
   ]
  },
  {
   "cell_type": "markdown",
   "metadata": {},
   "source": [
    "Now the graphs look better. While the z-score is not ideal going further than 3, we would remove too much. Now onto tolls_amount."
   ]
  },
  {
   "cell_type": "code",
   "execution_count": 35,
   "metadata": {},
   "outputs": [],
   "source": [
    "# boxplotz(train,'tolls_amount')\n",
    "# viz2(train,'tolls_amount')"
   ]
  },
  {
   "cell_type": "markdown",
   "metadata": {},
   "source": [
    "We can see that below -5 and above 20 are outliers. We will remove them."
   ]
  },
  {
   "cell_type": "code",
   "execution_count": 36,
   "metadata": {},
   "outputs": [],
   "source": [
    "train.drop(train[train['tolls_amount'] > 20].index, inplace=True)\n",
    "train.drop(train[train['tolls_amount'] < -10].index, inplace=True)\n",
    "# viz2(train,'tolls_amount')"
   ]
  },
  {
   "cell_type": "markdown",
   "metadata": {},
   "source": [
    "This looks better. Now onto improvement_surcharge."
   ]
  },
  {
   "cell_type": "code",
   "execution_count": 37,
   "metadata": {},
   "outputs": [],
   "source": [
    "# boxplotz(train,'improvement_surcharge')\n",
    "# viz2(train,'improvement_surcharge')"
   ]
  },
  {
   "cell_type": "markdown",
   "metadata": {},
   "source": [
    "Now we see all the graphs are very \"extreme\" to look at. If we instead look at the count we can see the range is between -1 and 1. While the number of non 1 entries are low we annot remove them as it will make it into a static column. Moving on to total_amount."
   ]
  },
  {
   "cell_type": "code",
   "execution_count": 38,
   "metadata": {},
   "outputs": [],
   "source": [
    "# boxplotz(train,'total_amount')\n",
    "# viz2(train,'total_amount')"
   ]
  },
  {
   "cell_type": "markdown",
   "metadata": {},
   "source": [
    "We can see that there a only a few outliers. Let's remove value below -200 and above 400."
   ]
  },
  {
   "cell_type": "code",
   "execution_count": 39,
   "metadata": {},
   "outputs": [],
   "source": [
    "train.drop(train[train['total_amount'] > 400].index, inplace=True)\n",
    "train.drop(train[train['total_amount'] < -200].index, inplace=True)\n",
    "# viz2(train,'total_amount')"
   ]
  },
  {
   "cell_type": "markdown",
   "metadata": {},
   "source": [
    "This removes only a few values but overall I won't remove more as it will start removing too many values. Now onto congestion_surcharge."
   ]
  },
  {
   "cell_type": "code",
   "execution_count": 40,
   "metadata": {},
   "outputs": [],
   "source": [
    "# boxplotz(train,'congestion_surcharge')\n",
    "# viz2(train,'congestion_surcharge')"
   ]
  },
  {
   "cell_type": "markdown",
   "metadata": {},
   "source": [
    "We can see that congestion_surcharge is filled with only 3 values. Removeing any will risk losing valueable data, so we will not remove any. This is the end of data cleaning."
   ]
  },
  {
   "cell_type": "markdown",
   "metadata": {},
   "source": [
    "Let's see number of rows between the original and the cleaned data."
   ]
  },
  {
   "cell_type": "code",
   "execution_count": 41,
   "metadata": {},
   "outputs": [
    {
     "name": "stdout",
     "output_type": "stream",
     "text": [
      "Original shape of train:  (175000, 17)\n",
      "Shape of train after cleaning:  (174653, 22)\n",
      "Number of rows removed:  347\n"
     ]
    }
   ],
   "source": [
    "print(\"Original shape of train: \", train_og.shape)\n",
    "print(\"Shape of train after cleaning: \", train.shape)\n",
    "print(\"Number of rows removed: \", train_og.shape[0] - train.shape[0])"
   ]
  },
  {
   "cell_type": "markdown",
   "metadata": {},
   "source": [
    "We can see that we have not removing a drastic amount of data."
   ]
  },
  {
   "cell_type": "code",
   "execution_count": 42,
   "metadata": {},
   "outputs": [],
   "source": [
    "# get_vis()"
   ]
  },
  {
   "cell_type": "markdown",
   "metadata": {},
   "source": [
    "We can see that a few graphs show the improvement after cleaning. While none of them have an ideal distribution, they are better than before."
   ]
  },
  {
   "cell_type": "code",
   "execution_count": 43,
   "metadata": {},
   "outputs": [
    {
     "data": {
      "image/png": "[encoded data removed]",
      "text/plain": [
       "<Figure size 1000x1000 with 2 Axes>"
      ]
     },
     "metadata": {},
     "output_type": "display_data"
    }
   ],
   "source": [
    "import seaborn as sns\n",
    "corr = train.corr()[['total_amount']]\n",
    "plt.figure(figsize=(10, 10))\n",
    "sns.heatmap(corr, annot=True)\n",
    "plt.show()"
   ]
  },
  {
   "cell_type": "code",
   "execution_count": 44,
   "metadata": {},
   "outputs": [],
   "source": [
    "# print column names from corr if the abs value is greater than 0.1\n",
    "corr_cols = [i for i in corr[abs(corr['total_amount']) > 0.1].index]\n",
    "# for i in corr_cols:\n",
    "#     print(i)"
   ]
  },
  {
   "cell_type": "markdown",
   "metadata": {},
   "source": [
    "These are the columns that the heatmap detremined to have correation of over 0.1. We will use these colmns and any related columns."
   ]
  },
  {
   "cell_type": "code",
   "execution_count": 45,
   "metadata": {},
   "outputs": [],
   "source": [
    "# print cols not in corr_cols\n",
    "# for i in train.columns:\n",
    "#     if i not in corr_cols:\n",
    "#         print(i)"
   ]
  },
  {
   "cell_type": "markdown",
   "metadata": {},
   "source": [
    "We will drop all of these. We will also drop payment_type_unknown as well as it also has a fairly low correleation."
   ]
  },
  {
   "cell_type": "code",
   "execution_count": 46,
   "metadata": {},
   "outputs": [
    {
     "data": {
      "text/html": [
       "<div>\n",
       "<style scoped>\n",
       "    .dataframe tbody tr th:only-of-type {\n",
       "        vertical-align: middle;\n",
       "    }\n",
       "\n",
       "    .dataframe tbody tr th {\n",
       "        vertical-align: top;\n",
       "    }\n",
       "\n",
       "    .dataframe thead th {\n",
       "        text-align: right;\n",
       "    }\n",
       "</style>\n",
       "<table border=\"1\" class=\"dataframe\">\n",
       "  <thead>\n",
       "    <tr style=\"text-align: right;\">\n",
       "      <th></th>\n",
       "      <th>trip_distance</th>\n",
       "      <th>RatecodeID</th>\n",
       "      <th>extra</th>\n",
       "      <th>tip_amount</th>\n",
       "      <th>tolls_amount</th>\n",
       "      <th>improvement_surcharge</th>\n",
       "      <th>total_amount</th>\n",
       "      <th>congestion_surcharge</th>\n",
       "      <th>Airport_fee</th>\n",
       "    </tr>\n",
       "  </thead>\n",
       "  <tbody>\n",
       "    <tr>\n",
       "      <th>0</th>\n",
       "      <td>2.14</td>\n",
       "      <td>1.0</td>\n",
       "      <td>2.5</td>\n",
       "      <td>7.165589</td>\n",
       "      <td>0.0</td>\n",
       "      <td>1.0</td>\n",
       "      <td>20.64</td>\n",
       "      <td>2.5</td>\n",
       "      <td>0.0</td>\n",
       "    </tr>\n",
       "    <tr>\n",
       "      <th>1</th>\n",
       "      <td>2.70</td>\n",
       "      <td>1.0</td>\n",
       "      <td>3.5</td>\n",
       "      <td>6.067401</td>\n",
       "      <td>0.0</td>\n",
       "      <td>1.0</td>\n",
       "      <td>25.55</td>\n",
       "      <td>2.5</td>\n",
       "      <td>0.0</td>\n",
       "    </tr>\n",
       "    <tr>\n",
       "      <th>2</th>\n",
       "      <td>1.15</td>\n",
       "      <td>1.0</td>\n",
       "      <td>0.0</td>\n",
       "      <td>4.111547</td>\n",
       "      <td>0.0</td>\n",
       "      <td>1.0</td>\n",
       "      <td>17.64</td>\n",
       "      <td>2.5</td>\n",
       "      <td>0.0</td>\n",
       "    </tr>\n",
       "    <tr>\n",
       "      <th>3</th>\n",
       "      <td>0.40</td>\n",
       "      <td>1.0</td>\n",
       "      <td>2.5</td>\n",
       "      <td>6.411079</td>\n",
       "      <td>0.0</td>\n",
       "      <td>1.0</td>\n",
       "      <td>12.80</td>\n",
       "      <td>2.5</td>\n",
       "      <td>0.0</td>\n",
       "    </tr>\n",
       "    <tr>\n",
       "      <th>4</th>\n",
       "      <td>1.10</td>\n",
       "      <td>1.0</td>\n",
       "      <td>1.0</td>\n",
       "      <td>4.769377</td>\n",
       "      <td>0.0</td>\n",
       "      <td>1.0</td>\n",
       "      <td>18.00</td>\n",
       "      <td>2.5</td>\n",
       "      <td>0.0</td>\n",
       "    </tr>\n",
       "  </tbody>\n",
       "</table>\n",
       "</div>"
      ],
      "text/plain": [
       "   trip_distance  RatecodeID  extra  tip_amount  tolls_amount  \\\n",
       "0           2.14         1.0    2.5    7.165589           0.0   \n",
       "1           2.70         1.0    3.5    6.067401           0.0   \n",
       "2           1.15         1.0    0.0    4.111547           0.0   \n",
       "3           0.40         1.0    2.5    6.411079           0.0   \n",
       "4           1.10         1.0    1.0    4.769377           0.0   \n",
       "\n",
       "   improvement_surcharge  total_amount  congestion_surcharge  Airport_fee  \n",
       "0                    1.0         20.64                   2.5          0.0  \n",
       "1                    1.0         25.55                   2.5          0.0  \n",
       "2                    1.0         17.64                   2.5          0.0  \n",
       "3                    1.0         12.80                   2.5          0.0  \n",
       "4                    1.0         18.00                   2.5          0.0  "
      ]
     },
     "execution_count": 46,
     "metadata": {},
     "output_type": "execute_result"
    }
   ],
   "source": [
    "# drop columns not in corr_cols\n",
    "for i in train.columns:\n",
    "    if i not in corr_cols:\n",
    "        train.drop(i, axis=1, inplace=True)\n",
    "\n",
    "train.drop('payment_type_unknown', axis=1, inplace=True)\n",
    "\n",
    "train.head()"
   ]
  },
  {
   "cell_type": "code",
   "execution_count": 47,
   "metadata": {},
   "outputs": [],
   "source": [
    "# train.head()"
   ]
  },
  {
   "cell_type": "markdown",
   "metadata": {},
   "source": [
    "These are the columns we will we using. Now we'll make a 80:20 train/test split."
   ]
  },
  {
   "cell_type": "code",
   "execution_count": 48,
   "metadata": {},
   "outputs": [
    {
     "name": "stdout",
     "output_type": "stream",
     "text": [
      "Training data shape:  (139722, 8)\n",
      "Training labels shape:  (139722,)\n",
      "Testing data shape:  (34931, 8)\n",
      "Testing labels shape:  (34931,)\n"
     ]
    },
    {
     "data": {
      "text/html": [
       "<div>\n",
       "<style scoped>\n",
       "    .dataframe tbody tr th:only-of-type {\n",
       "        vertical-align: middle;\n",
       "    }\n",
       "\n",
       "    .dataframe tbody tr th {\n",
       "        vertical-align: top;\n",
       "    }\n",
       "\n",
       "    .dataframe thead th {\n",
       "        text-align: right;\n",
       "    }\n",
       "</style>\n",
       "<table border=\"1\" class=\"dataframe\">\n",
       "  <thead>\n",
       "    <tr style=\"text-align: right;\">\n",
       "      <th></th>\n",
       "      <th>trip_distance</th>\n",
       "      <th>RatecodeID</th>\n",
       "      <th>extra</th>\n",
       "      <th>tip_amount</th>\n",
       "      <th>tolls_amount</th>\n",
       "      <th>improvement_surcharge</th>\n",
       "      <th>congestion_surcharge</th>\n",
       "      <th>Airport_fee</th>\n",
       "    </tr>\n",
       "  </thead>\n",
       "  <tbody>\n",
       "    <tr>\n",
       "      <th>34585</th>\n",
       "      <td>3.20</td>\n",
       "      <td>1.0</td>\n",
       "      <td>5.0</td>\n",
       "      <td>7.035102</td>\n",
       "      <td>0.0</td>\n",
       "      <td>1.0</td>\n",
       "      <td>2.5</td>\n",
       "      <td>0.0</td>\n",
       "    </tr>\n",
       "    <tr>\n",
       "      <th>116400</th>\n",
       "      <td>3.16</td>\n",
       "      <td>1.0</td>\n",
       "      <td>0.0</td>\n",
       "      <td>11.083254</td>\n",
       "      <td>0.0</td>\n",
       "      <td>1.0</td>\n",
       "      <td>2.5</td>\n",
       "      <td>0.0</td>\n",
       "    </tr>\n",
       "    <tr>\n",
       "      <th>139616</th>\n",
       "      <td>1.56</td>\n",
       "      <td>1.0</td>\n",
       "      <td>1.0</td>\n",
       "      <td>3.098152</td>\n",
       "      <td>0.0</td>\n",
       "      <td>1.0</td>\n",
       "      <td>2.5</td>\n",
       "      <td>0.0</td>\n",
       "    </tr>\n",
       "    <tr>\n",
       "      <th>92237</th>\n",
       "      <td>3.34</td>\n",
       "      <td>1.0</td>\n",
       "      <td>0.0</td>\n",
       "      <td>7.780267</td>\n",
       "      <td>0.0</td>\n",
       "      <td>1.0</td>\n",
       "      <td>2.5</td>\n",
       "      <td>0.0</td>\n",
       "    </tr>\n",
       "    <tr>\n",
       "      <th>149758</th>\n",
       "      <td>1.42</td>\n",
       "      <td>1.0</td>\n",
       "      <td>2.5</td>\n",
       "      <td>0.665760</td>\n",
       "      <td>0.0</td>\n",
       "      <td>1.0</td>\n",
       "      <td>2.5</td>\n",
       "      <td>0.0</td>\n",
       "    </tr>\n",
       "  </tbody>\n",
       "</table>\n",
       "</div>"
      ],
      "text/plain": [
       "        trip_distance  RatecodeID  extra  tip_amount  tolls_amount  \\\n",
       "34585            3.20         1.0    5.0    7.035102           0.0   \n",
       "116400           3.16         1.0    0.0   11.083254           0.0   \n",
       "139616           1.56         1.0    1.0    3.098152           0.0   \n",
       "92237            3.34         1.0    0.0    7.780267           0.0   \n",
       "149758           1.42         1.0    2.5    0.665760           0.0   \n",
       "\n",
       "        improvement_surcharge  congestion_surcharge  Airport_fee  \n",
       "34585                     1.0                   2.5          0.0  \n",
       "116400                    1.0                   2.5          0.0  \n",
       "139616                    1.0                   2.5          0.0  \n",
       "92237                     1.0                   2.5          0.0  \n",
       "149758                    1.0                   2.5          0.0  "
      ]
     },
     "execution_count": 48,
     "metadata": {},
     "output_type": "execute_result"
    }
   ],
   "source": [
    "from sklearn.model_selection import train_test_split\n",
    "\n",
    "# Split the data into training and testing sets\n",
    "train_data, test_data, train_labels, test_labels = train_test_split(train.drop('total_amount', axis=1), train['total_amount'], test_size=0.2, random_state=42)\n",
    "\n",
    "# Print the shapes of the training and testing sets\n",
    "print(\"Training data shape: \", train_data.shape)\n",
    "print(\"Training labels shape: \", train_labels.shape)\n",
    "print(\"Testing data shape: \", test_data.shape)\n",
    "print(\"Testing labels shape: \", test_labels.shape)\n",
    "train_data.head()"
   ]
  },
  {
   "cell_type": "markdown",
   "metadata": {},
   "source": [
    "## Now for the models\n",
    "Model 1: KNN\n",
    "We know KNN is effected by the curse of dimentionality so we will drop a few columns from the data."
   ]
  },
  {
   "cell_type": "code",
   "execution_count": 49,
   "metadata": {},
   "outputs": [],
   "source": [
    "train_data_knn = train_data.copy()\n",
    "test_data_knn = test_data.copy()\n",
    "train_labels_knn = train_labels.copy()\n",
    "test_labels_knn = test_labels.copy()"
   ]
  },
  {
   "cell_type": "code",
   "execution_count": 50,
   "metadata": {},
   "outputs": [],
   "source": [
    "# keep only trip_distance, RatecodeID, tip_amount, tolls_amount, Airport_fee\n",
    "\n",
    "train_data_knn = train_data_knn[['trip_distance', 'RatecodeID', 'tip_amount', 'tolls_amount', 'Airport_fee']]\n",
    "test_data_knn = test_data_knn[['trip_distance', 'RatecodeID', 'tip_amount', 'tolls_amount', 'Airport_fee']]"
   ]
  },
  {
   "cell_type": "code",
   "execution_count": 51,
   "metadata": {},
   "outputs": [],
   "source": [
    "# from sklearn.neighbors import KNeighborsRegressor\n",
    "# from sklearn.metrics import mean_squared_error\n",
    "\n",
    "# knn = KNeighborsRegressor(n_neighbors=3)\n",
    "# knn.fit(train_data_knn, train_labels)\n",
    "\n",
    "\n",
    "# test_predictions = knn.predict(test_data_knn)\n",
    "# rmse = mean_squared_error(test_labels, test_predictions, squared=False)\n",
    "\n",
    "# print(\"Model RMSE: \", rmse)"
   ]
  },
  {
   "cell_type": "code",
   "execution_count": 52,
   "metadata": {},
   "outputs": [],
   "source": [
    "# knn = KNeighborsRegressor(n_neighbors=3)\n",
    "# knn.fit(train_data, train_labels)\n",
    "\n",
    "\n",
    "# test_predictions = knn.predict(test_data)\n",
    "# rmse = mean_squared_error(test_labels, test_predictions, squared=False)\n",
    "\n",
    "# print(\"Model RMSE: \", rmse)"
   ]
  },
  {
   "cell_type": "markdown",
   "metadata": {},
   "source": [
    "We can see that despite the reduction in dimentions, the model is running around the same speed, almost within margin of error. Furthermore the accuracy is worse on the reduced dimentions. We will not the reduced dataset."
   ]
  },
  {
   "cell_type": "markdown",
   "metadata": {},
   "source": [
    "Previous runs have shown the best params as:\n",
    "\n",
    "`Best parameters:  {'algorithm': 'auto', 'leaf_size': 1, 'n_jobs': -1, 'n_neighbors': 3, 'p': 1, 'weights': 'uniform'}`\n",
    "\n",
    "So this grid search will be very reduced for demonstration. The original grid search to find the above parameters took over 10 minutes to run."
   ]
  },
  {
   "cell_type": "code",
   "execution_count": 53,
   "metadata": {},
   "outputs": [],
   "source": [
    "# from sklearn.model_selection import GridSearchCV\n",
    "\n",
    "# param_grid = {\n",
    "#     'n_neighbors' : np.arange(3, 4),\n",
    "#     'weights': ['uniform', 'distance'],\n",
    "#     'algorithm': ['auto'],\n",
    "#     'leaf_size': np.arange(1, 2),\n",
    "#     'p' : [1],\n",
    "#     'n_jobs': [-1]\n",
    "# }\n",
    "\n",
    "# knn = KNeighborsRegressor()\n",
    "# knn_cv = GridSearchCV(knn, param_grid, cv=5)\n",
    "# knn_cv.fit(train_data, train_labels)\n",
    "\n",
    "# best_params = knn_cv.best_params_\n",
    "# print(\"Best parameters: \", best_params)\n",
    "\n",
    "# best_score = knn_cv.best_score_\n",
    "# print(\"Best score: \", best_score)"
   ]
  },
  {
   "cell_type": "code",
   "execution_count": 54,
   "metadata": {},
   "outputs": [],
   "source": [
    "# model = knn_cv.best_estimator_\n",
    "# model.fit(train_data, train_labels)"
   ]
  },
  {
   "cell_type": "markdown",
   "metadata": {},
   "source": [
    "Not keeping SVM because it takes too long to run. And wasn't very accurate.\n",
    "\n",
    "Model 2: CART"
   ]
  },
  {
   "cell_type": "code",
   "execution_count": 55,
   "metadata": {},
   "outputs": [],
   "source": [
    "train_data_cart = train_data.copy()\n",
    "test_data_cart = test_data.copy()\n",
    "train_labels_cart = train_labels.copy()\n",
    "test_labels_cart = test_labels.copy()"
   ]
  },
  {
   "cell_type": "code",
   "execution_count": 56,
   "metadata": {},
   "outputs": [],
   "source": [
    "from sklearn.tree import DecisionTreeRegressor\n",
    "from sklearn.metrics import mean_squared_error\n",
    "\n",
    "# # Initialize the DecisionTreeRegressor\n",
    "# clf = DecisionTreeRegressor(random_state=42)\n",
    "\n",
    "# # Fit the model using the training data\n",
    "# clf.fit(train_data_cart, train_labels_cart)\n",
    "\n",
    "# # Predict the target for the test data\n",
    "# test_predictions = clf.predict(test_data_cart)\n",
    "\n",
    "# # Calculate the RMSE of the model\n",
    "# rmse = mean_squared_error(test_labels_cart, test_predictions, squared=False)\n",
    "\n",
    "# print(\"Model RMSE: \", rmse)"
   ]
  },
  {
   "cell_type": "code",
   "execution_count": 57,
   "metadata": {},
   "outputs": [
    {
     "name": "stdout",
     "output_type": "stream",
     "text": [
      "Best param: {'criterion': 'squared_error', 'max_depth': 15, 'max_features': 'log2', 'min_samples_split': 2}\n",
      "Best score: 0.9392400073105167\n"
     ]
    }
   ],
   "source": [
    "from sklearn.model_selection import GridSearchCV\n",
    "\n",
    "param_grid = {\n",
    "    'criterion': ['squared_error','friedman_mse'],\n",
    "    'max_depth': [1, 15, 20],\n",
    "    'min_samples_split': [2, 5],\n",
    "    'max_features': ['sqrt', 'log2']\n",
    "}\n",
    "\n",
    "clf = DecisionTreeRegressor(random_state=42)\n",
    "clf_cv = GridSearchCV(clf, param_grid, cv=5, n_jobs=-1)\n",
    "clf_cv.fit(train_data_cart, train_labels_cart)\n",
    "\n",
    "print(\"Best param:\", clf_cv.best_params_)\n",
    "print(\"Best score:\", clf_cv.best_score_)"
   ]
  },
  {
   "cell_type": "code",
   "execution_count": 58,
   "metadata": {},
   "outputs": [],
   "source": [
    "# model = clf_cv.best_estimator_\n",
    "# model.fit(train_data_cart, train_labels_cart)\n",
    "# test_predictions = model.predict(test_data_cart)\n",
    "# rmse = mean_squared_error(test_labels_cart, test_predictions, squared=False)\n",
    "# print(\"Model RMSE: \", rmse)"
   ]
  },
  {
   "cell_type": "markdown",
   "metadata": {},
   "source": [
    "This has worked well. Now trying bagging and boosting. We will carry over the Descision Tree parameters."
   ]
  },
  {
   "cell_type": "code",
   "execution_count": 59,
   "metadata": {},
   "outputs": [],
   "source": [
    "train_data_bgbt = train_data.copy()\n",
    "test_data_bgbt = test_data.copy()\n",
    "train_labels_bgbt = train_labels.copy()\n",
    "test_labels_bgbt = test_labels.copy()"
   ]
  },
  {
   "cell_type": "code",
   "execution_count": 60,
   "metadata": {},
   "outputs": [],
   "source": [
    "# from sklearn.ensemble import BaggingRegressor, AdaBoostRegressor\n",
    "\n",
    "# bag_reg = BaggingRegressor(\n",
    "#     clf_cv.best_estimator_,\n",
    "#     n_estimators=500,\n",
    "#     max_samples=100,\n",
    "#     bootstrap=True,\n",
    "#     random_state=42,\n",
    "# )\n",
    "# bag_reg.fit(train_data_bgbt, train_labels_bgbt)\n",
    "# bag_pred = bag_reg.predict(test_data_bgbt)\n",
    "# bag_rmse = mean_squared_error(test_labels_bgbt, bag_pred, squared=False)\n",
    "\n",
    "# print(\"Bagging Regressor RMSE: \", bag_rmse)"
   ]
  },
  {
   "cell_type": "code",
   "execution_count": 61,
   "metadata": {},
   "outputs": [],
   "source": [
    "# ada_reg = AdaBoostRegressor(\n",
    "#     clf_cv.best_estimator_,\n",
    "#     n_estimators=200,\n",
    "#     learning_rate=0.5,\n",
    "#     random_state=42,\n",
    "# )\n",
    "# ada_reg.fit(train_data_bgbt, train_labels_bgbt)\n",
    "# ada_pred = ada_reg.predict(test_data_bgbt)\n",
    "# ada_rmse = mean_squared_error(test_labels_bgbt, ada_pred, squared=False)\n",
    "\n",
    "# print(\"AdaBoost Regressor RMSE: \", ada_rmse)"
   ]
  },
  {
   "cell_type": "markdown",
   "metadata": {},
   "source": [
    "We will use boosting as the RMSE is lower."
   ]
  },
  {
   "cell_type": "code",
   "execution_count": 62,
   "metadata": {},
   "outputs": [],
   "source": [
    "# param_grid = {\n",
    "#     'n_estimators': [50, 100, 200],\n",
    "#     'learning_rate': [0.3, 0.5, 0.7],\n",
    "#     'random_state': [42]\n",
    "# }\n",
    "\n",
    "# ada_grid = GridSearchCV(AdaBoostRegressor(clf_cv.best_estimator_), param_grid, cv=2, n_jobs=-1)\n",
    "\n",
    "# ada_grid.fit(train_data_bgbt, train_labels_bgbt)\n",
    "# print(\"Best param:\", ada_grid.best_params_)\n",
    "# print(\"Best score:\", ada_grid.best_score_)"
   ]
  },
  {
   "cell_type": "markdown",
   "metadata": {},
   "source": [
    "This is even better! Now we'll try MLP and after that random forest."
   ]
  },
  {
   "cell_type": "code",
   "execution_count": 63,
   "metadata": {},
   "outputs": [],
   "source": [
    "train_data_mlp = train_data.copy()\n",
    "test_data_mlp = test_data.copy()\n",
    "train_labels_mlp = train_labels.copy()\n",
    "test_labels_mlp = test_labels.copy()"
   ]
  },
  {
   "cell_type": "code",
   "execution_count": 64,
   "metadata": {},
   "outputs": [],
   "source": [
    "from sklearn.neural_network import MLPRegressor\n",
    "from sklearn.metrics import mean_squared_error\n",
    "\n",
    "# Initialize the MLPRegressor\n",
    "# mlp_reg = MLPRegressor(random_state=42, max_iter=100, early_stopping=True, learning_rate='adaptive', learning_rate_init=0.02)\n",
    "\n",
    "# # Fit the model using the training data\n",
    "# mlp_reg.fit(train_data_mlp, train_labels_mlp)\n",
    "\n",
    "# # Predict the target for the test data\n",
    "# mlp_pred = mlp_reg.predict(test_data_mlp)\n",
    "\n",
    "# # Calculate the RMSE of the model\n",
    "# rmse = mean_squared_error(test_labels_mlp, mlp_pred, squared=False)\n",
    "\n",
    "# print(\"Model RMSE: \", rmse)"
   ]
  },
  {
   "cell_type": "code",
   "execution_count": 65,
   "metadata": {},
   "outputs": [],
   "source": [
    "# param_grid = {\n",
    "#     'learning_rate_init': [0.01, 0.02],\n",
    "#     'learning_rate': ['adaptive'],\n",
    "#     'activation': ['relu', 'tanh']\n",
    "# }\n",
    "\n",
    "# grid_mlp = GridSearchCV(MLPRegressor(random_state=42, max_iter=100, early_stopping=True), param_grid, cv=2, n_jobs=-1)\n",
    "\n",
    "# grid_mlp.fit(train_data_mlp, train_labels_mlp)\n",
    "# print(\"Best param:\", grid_mlp.best_params_)\n",
    "# print(\"Best score:\", grid_mlp.best_score_)"
   ]
  },
  {
   "cell_type": "markdown",
   "metadata": {},
   "source": [
    "MLP had a terrible score! It also took very long to run. Let's try random forest!"
   ]
  },
  {
   "cell_type": "code",
   "execution_count": 66,
   "metadata": {},
   "outputs": [],
   "source": [
    "train_data_randf = train_data.copy()\n",
    "test_data_randf = test_data.copy()\n",
    "train_labels_randf = train_labels.copy()\n",
    "test_labels_randf = test_labels.copy()"
   ]
  },
  {
   "cell_type": "code",
   "execution_count": 67,
   "metadata": {},
   "outputs": [
    {
     "name": "stdout",
     "output_type": "stream",
     "text": [
      "Random Forest RMSE:  5.579208023695183\n"
     ]
    }
   ],
   "source": [
    "from sklearn.ensemble import RandomForestRegressor\n",
    "from sklearn.metrics import mean_squared_error\n",
    "\n",
    "rf_reg = RandomForestRegressor(n_estimators=100, random_state=42,n_jobs=-1)\n",
    "\n",
    "# Fit the model using the training data\n",
    "rf_reg.fit(train_data_randf, train_labels_randf)\n",
    "\n",
    "# Predict the target for the test data\n",
    "rf_pred = rf_reg.predict(test_data_randf)\n",
    "\n",
    "# Calculate the RMSE of the model\n",
    "rmse = mean_squared_error(test_labels_randf, rf_pred, squared=False)\n",
    "\n",
    "print(\"Random Forest RMSE: \", rmse)"
   ]
  },
  {
   "cell_type": "code",
   "execution_count": 69,
   "metadata": {},
   "outputs": [
    {
     "name": "stdout",
     "output_type": "stream",
     "text": [
      "Best param: {'bootstrap': True, 'max_depth': 10, 'n_estimators': 200, 'n_jobs': -1, 'oob_score': True, 'random_state': 42}\n",
      "Best score: 0.950876108522646\n"
     ]
    }
   ],
   "source": [
    "param_grid = {\n",
    "    'n_estimators': [100, 200],\n",
    "    'max_depth': [10, 20],\n",
    "    'bootstrap': [True],\n",
    "    'random_state': [42],\n",
    "    'n_jobs': [-1],\n",
    "    'oob_score': [True, False]\n",
    "}\n",
    "\n",
    "grid_ranf = GridSearchCV(RandomForestRegressor(), param_grid, cv=5, n_jobs=-1)\n",
    "\n",
    "grid_ranf.fit(train_data_randf, train_labels_randf)\n",
    "print(\"Best param:\", grid_ranf.best_params_)\n",
    "print(\"Best score:\", grid_ranf.best_score_)"
   ]
  },
  {
   "cell_type": "code",
   "execution_count": 70,
   "metadata": {},
   "outputs": [
    {
     "data": {
      "text/html": [
       "<style>#sk-container-id-1 {color: black;}#sk-container-id-1 pre{padding: 0;}#sk-container-id-1 div.sk-toggleable {background-color: white;}#sk-container-id-1 label.sk-toggleable__label {cursor: pointer;display: block;width: 100%;margin-bottom: 0;padding: 0.3em;box-sizing: border-box;text-align: center;}#sk-container-id-1 label.sk-toggleable__label-arrow:before {content: \"▸\";float: left;margin-right: 0.25em;color: #696969;}#sk-container-id-1 label.sk-toggleable__label-arrow:hover:before {color: black;}#sk-container-id-1 div.sk-estimator:hover label.sk-toggleable__label-arrow:before {color: black;}#sk-container-id-1 div.sk-toggleable__content {max-height: 0;max-width: 0;overflow: hidden;text-align: left;background-color: #f0f8ff;}#sk-container-id-1 div.sk-toggleable__content pre {margin: 0.2em;color: black;border-radius: 0.25em;background-color: #f0f8ff;}#sk-container-id-1 input.sk-toggleable__control:checked~div.sk-toggleable__content {max-height: 200px;max-width: 100%;overflow: auto;}#sk-container-id-1 input.sk-toggleable__control:checked~label.sk-toggleable__label-arrow:before {content: \"▾\";}#sk-container-id-1 div.sk-estimator input.sk-toggleable__control:checked~label.sk-toggleable__label {background-color: #d4ebff;}#sk-container-id-1 div.sk-label input.sk-toggleable__control:checked~label.sk-toggleable__label {background-color: #d4ebff;}#sk-container-id-1 input.sk-hidden--visually {border: 0;clip: rect(1px 1px 1px 1px);clip: rect(1px, 1px, 1px, 1px);height: 1px;margin: -1px;overflow: hidden;padding: 0;position: absolute;width: 1px;}#sk-container-id-1 div.sk-estimator {font-family: monospace;background-color: #f0f8ff;border: 1px dotted black;border-radius: 0.25em;box-sizing: border-box;margin-bottom: 0.5em;}#sk-container-id-1 div.sk-estimator:hover {background-color: #d4ebff;}#sk-container-id-1 div.sk-parallel-item::after {content: \"\";width: 100%;border-bottom: 1px solid gray;flex-grow: 1;}#sk-container-id-1 div.sk-label:hover label.sk-toggleable__label {background-color: #d4ebff;}#sk-container-id-1 div.sk-serial::before {content: \"\";position: absolute;border-left: 1px solid gray;box-sizing: border-box;top: 0;bottom: 0;left: 50%;z-index: 0;}#sk-container-id-1 div.sk-serial {display: flex;flex-direction: column;align-items: center;background-color: white;padding-right: 0.2em;padding-left: 0.2em;position: relative;}#sk-container-id-1 div.sk-item {position: relative;z-index: 1;}#sk-container-id-1 div.sk-parallel {display: flex;align-items: stretch;justify-content: center;background-color: white;position: relative;}#sk-container-id-1 div.sk-item::before, #sk-container-id-1 div.sk-parallel-item::before {content: \"\";position: absolute;border-left: 1px solid gray;box-sizing: border-box;top: 0;bottom: 0;left: 50%;z-index: -1;}#sk-container-id-1 div.sk-parallel-item {display: flex;flex-direction: column;z-index: 1;position: relative;background-color: white;}#sk-container-id-1 div.sk-parallel-item:first-child::after {align-self: flex-end;width: 50%;}#sk-container-id-1 div.sk-parallel-item:last-child::after {align-self: flex-start;width: 50%;}#sk-container-id-1 div.sk-parallel-item:only-child::after {width: 0;}#sk-container-id-1 div.sk-dashed-wrapped {border: 1px dashed gray;margin: 0 0.4em 0.5em 0.4em;box-sizing: border-box;padding-bottom: 0.4em;background-color: white;}#sk-container-id-1 div.sk-label label {font-family: monospace;font-weight: bold;display: inline-block;line-height: 1.2em;}#sk-container-id-1 div.sk-label-container {text-align: center;}#sk-container-id-1 div.sk-container {/* jupyter's `normalize.less` sets `[hidden] { display: none; }` but bootstrap.min.css set `[hidden] { display: none !important; }` so we also need the `!important` here to be able to override the default hidden behavior on the sphinx rendered scikit-learn.org. See: https://github.com/scikit-learn/scikit-learn/issues/21755 */display: inline-block !important;position: relative;}#sk-container-id-1 div.sk-text-repr-fallback {display: none;}</style><div id=\"sk-container-id-1\" class=\"sk-top-container\"><div class=\"sk-text-repr-fallback\"><pre>RandomForestRegressor(max_depth=10, n_estimators=200, n_jobs=-1, oob_score=True,\n",
       "                      random_state=42)</pre><b>In a Jupyter environment, please rerun this cell to show the HTML representation or trust the notebook. <br />On GitHub, the HTML representation is unable to render, please try loading this page with nbviewer.org.</b></div><div class=\"sk-container\" hidden><div class=\"sk-item\"><div class=\"sk-estimator sk-toggleable\"><input class=\"sk-toggleable__control sk-hidden--visually\" id=\"sk-estimator-id-1\" type=\"checkbox\" checked><label for=\"sk-estimator-id-1\" class=\"sk-toggleable__label sk-toggleable__label-arrow\">RandomForestRegressor</label><div class=\"sk-toggleable__content\"><pre>RandomForestRegressor(max_depth=10, n_estimators=200, n_jobs=-1, oob_score=True,\n",
       "                      random_state=42)</pre></div></div></div></div></div>"
      ],
      "text/plain": [
       "RandomForestRegressor(max_depth=10, n_estimators=200, n_jobs=-1, oob_score=True,\n",
       "                      random_state=42)"
      ]
     },
     "execution_count": 70,
     "metadata": {},
     "output_type": "execute_result"
    }
   ],
   "source": [
    "model = grid_ranf.best_estimator_\n",
    "model.fit(train_data_bgbt, train_labels_bgbt)"
   ]
  },
  {
   "cell_type": "code",
   "execution_count": 71,
   "metadata": {},
   "outputs": [],
   "source": [
    "# test.head()"
   ]
  },
  {
   "cell_type": "code",
   "execution_count": 72,
   "metadata": {},
   "outputs": [],
   "source": [
    "# keep only the columns in train except total_amount\n",
    "test = test[train.drop('total_amount', axis=1).columns]"
   ]
  },
  {
   "cell_type": "code",
   "execution_count": 73,
   "metadata": {},
   "outputs": [
    {
     "data": {
      "text/html": [
       "<div>\n",
       "<style scoped>\n",
       "    .dataframe tbody tr th:only-of-type {\n",
       "        vertical-align: middle;\n",
       "    }\n",
       "\n",
       "    .dataframe tbody tr th {\n",
       "        vertical-align: top;\n",
       "    }\n",
       "\n",
       "    .dataframe thead th {\n",
       "        text-align: right;\n",
       "    }\n",
       "</style>\n",
       "<table border=\"1\" class=\"dataframe\">\n",
       "  <thead>\n",
       "    <tr style=\"text-align: right;\">\n",
       "      <th></th>\n",
       "      <th>trip_distance</th>\n",
       "      <th>RatecodeID</th>\n",
       "      <th>extra</th>\n",
       "      <th>tip_amount</th>\n",
       "      <th>tolls_amount</th>\n",
       "      <th>improvement_surcharge</th>\n",
       "      <th>congestion_surcharge</th>\n",
       "      <th>Airport_fee</th>\n",
       "    </tr>\n",
       "  </thead>\n",
       "  <tbody>\n",
       "    <tr>\n",
       "      <th>0</th>\n",
       "      <td>4.95</td>\n",
       "      <td>1.0</td>\n",
       "      <td>1.0</td>\n",
       "      <td>6.067612</td>\n",
       "      <td>0.0</td>\n",
       "      <td>1.0</td>\n",
       "      <td>2.5</td>\n",
       "      <td>0.0</td>\n",
       "    </tr>\n",
       "    <tr>\n",
       "      <th>1</th>\n",
       "      <td>2.10</td>\n",
       "      <td>1.0</td>\n",
       "      <td>2.5</td>\n",
       "      <td>6.191269</td>\n",
       "      <td>0.0</td>\n",
       "      <td>1.0</td>\n",
       "      <td>2.5</td>\n",
       "      <td>0.0</td>\n",
       "    </tr>\n",
       "    <tr>\n",
       "      <th>2</th>\n",
       "      <td>0.95</td>\n",
       "      <td>1.0</td>\n",
       "      <td>2.5</td>\n",
       "      <td>3.983872</td>\n",
       "      <td>0.0</td>\n",
       "      <td>1.0</td>\n",
       "      <td>2.5</td>\n",
       "      <td>0.0</td>\n",
       "    </tr>\n",
       "    <tr>\n",
       "      <th>3</th>\n",
       "      <td>0.80</td>\n",
       "      <td>1.0</td>\n",
       "      <td>3.5</td>\n",
       "      <td>6.839341</td>\n",
       "      <td>0.0</td>\n",
       "      <td>1.0</td>\n",
       "      <td>2.5</td>\n",
       "      <td>0.0</td>\n",
       "    </tr>\n",
       "    <tr>\n",
       "      <th>4</th>\n",
       "      <td>4.01</td>\n",
       "      <td>1.0</td>\n",
       "      <td>0.0</td>\n",
       "      <td>1.468943</td>\n",
       "      <td>0.0</td>\n",
       "      <td>1.0</td>\n",
       "      <td>0.0</td>\n",
       "      <td>0.0</td>\n",
       "    </tr>\n",
       "  </tbody>\n",
       "</table>\n",
       "</div>"
      ],
      "text/plain": [
       "   trip_distance  RatecodeID  extra  tip_amount  tolls_amount  \\\n",
       "0           4.95         1.0    1.0    6.067612           0.0   \n",
       "1           2.10         1.0    2.5    6.191269           0.0   \n",
       "2           0.95         1.0    2.5    3.983872           0.0   \n",
       "3           0.80         1.0    3.5    6.839341           0.0   \n",
       "4           4.01         1.0    0.0    1.468943           0.0   \n",
       "\n",
       "   improvement_surcharge  congestion_surcharge  Airport_fee  \n",
       "0                    1.0                   2.5          0.0  \n",
       "1                    1.0                   2.5          0.0  \n",
       "2                    1.0                   2.5          0.0  \n",
       "3                    1.0                   2.5          0.0  \n",
       "4                    1.0                   0.0          0.0  "
      ]
     },
     "execution_count": 73,
     "metadata": {},
     "output_type": "execute_result"
    }
   ],
   "source": [
    "test.head()"
   ]
  },
  {
   "cell_type": "code",
   "execution_count": 74,
   "metadata": {},
   "outputs": [],
   "source": [
    "# put mean in nan values\n",
    "test['RatecodeID'].fillna(test['RatecodeID'].mode()[0], inplace=True)\n",
    "test['congestion_surcharge'].fillna(test['congestion_surcharge'].mode()[0], inplace=True)\n",
    "test['Airport_fee'].fillna(test['Airport_fee'].mode()[0], inplace=True)"
   ]
  },
  {
   "cell_type": "code",
   "execution_count": 75,
   "metadata": {},
   "outputs": [
    {
     "data": {
      "text/plain": [
       "50001"
      ]
     },
     "execution_count": 75,
     "metadata": {},
     "output_type": "execute_result"
    }
   ],
   "source": [
    "#predictions\n",
    "predictions = model.predict(test)\n",
    "predictions.shape\n",
    "predictions.shape[0]+1"
   ]
  },
  {
   "cell_type": "code",
   "execution_count": 76,
   "metadata": {},
   "outputs": [
    {
     "name": "stdout",
     "output_type": "stream",
     "text": [
      "[34.74759735 24.8464364  16.36262541 ... 21.22975117 38.28472047\n",
      " 16.32130298]\n"
     ]
    }
   ],
   "source": [
    "print(predictions[:])"
   ]
  },
  {
   "cell_type": "code",
   "execution_count": 77,
   "metadata": {},
   "outputs": [
    {
     "data": {
      "text/html": [
       "<div>\n",
       "<style scoped>\n",
       "    .dataframe tbody tr th:only-of-type {\n",
       "        vertical-align: middle;\n",
       "    }\n",
       "\n",
       "    .dataframe tbody tr th {\n",
       "        vertical-align: top;\n",
       "    }\n",
       "\n",
       "    .dataframe thead th {\n",
       "        text-align: right;\n",
       "    }\n",
       "</style>\n",
       "<table border=\"1\" class=\"dataframe\">\n",
       "  <thead>\n",
       "    <tr style=\"text-align: right;\">\n",
       "      <th></th>\n",
       "      <th>ID</th>\n",
       "      <th>total_amount</th>\n",
       "    </tr>\n",
       "  </thead>\n",
       "  <tbody>\n",
       "    <tr>\n",
       "      <th>0</th>\n",
       "      <td>1</td>\n",
       "      <td>34.747597</td>\n",
       "    </tr>\n",
       "    <tr>\n",
       "      <th>1</th>\n",
       "      <td>2</td>\n",
       "      <td>24.846436</td>\n",
       "    </tr>\n",
       "    <tr>\n",
       "      <th>2</th>\n",
       "      <td>3</td>\n",
       "      <td>16.362625</td>\n",
       "    </tr>\n",
       "    <tr>\n",
       "      <th>3</th>\n",
       "      <td>4</td>\n",
       "      <td>14.785396</td>\n",
       "    </tr>\n",
       "    <tr>\n",
       "      <th>4</th>\n",
       "      <td>5</td>\n",
       "      <td>27.160616</td>\n",
       "    </tr>\n",
       "  </tbody>\n",
       "</table>\n",
       "</div>"
      ],
      "text/plain": [
       "   ID  total_amount\n",
       "0   1     34.747597\n",
       "1   2     24.846436\n",
       "2   3     16.362625\n",
       "3   4     14.785396\n",
       "4   5     27.160616"
      ]
     },
     "execution_count": 77,
     "metadata": {},
     "output_type": "execute_result"
    }
   ],
   "source": [
    "# Create a DataFrame from predictions with an ID column\n",
    "sub_df = pd.DataFrame({\n",
    "    'ID': range(1, len(predictions) + 1),\n",
    "    'total_amount': predictions\n",
    "})\n",
    "\n",
    "sub_df.head()"
   ]
  },
  {
   "cell_type": "code",
   "execution_count": 78,
   "metadata": {},
   "outputs": [],
   "source": [
    "sub_df.to_csv('submission.csv', index=False)"
   ]
  },
  {
   "cell_type": "code",
   "execution_count": 79,
   "metadata": {},
   "outputs": [],
   "source": [
    "# import sklearn as sk\n",
    "# import xgboost as xgb\n",
    "# import imblearn as imb\n",
    "# import scipy as sp\n",
    "# import pickle as pkl\n",
    "# import regex as re\n",
    "# import seaborn as sns\n",
    "# import matplotlib as mpl\n",
    "# import lightgbm as lgb"
   ]
  }
 ],
 "metadata": {
  "kernelspec": {
   "display_name": "Python 3",
   "language": "python",
   "name": "python3"
  },
  "language_info": {
   "codemirror_mode": {
    "name": "ipython",
    "version": 3
   },
   "file_extension": ".py",
   "mimetype": "text/x-python",
   "name": "python",
   "nbconvert_exporter": "python",
   "pygments_lexer": "ipython3",
   "version": "3.11.4"
  }
 },
 "nbformat": 4,
 "nbformat_minor": 2
}
